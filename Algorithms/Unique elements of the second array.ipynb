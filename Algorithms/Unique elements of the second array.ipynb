{
 "cells": [
  {
   "cell_type": "markdown",
   "metadata": {},
   "source": [
    "Даны два массива целых чисел. Напишите программу, которая найдет все числа, которые есть во втором массиве, но отсутствуют в первом."
   ]
  },
  {
   "cell_type": "code",
   "execution_count": 1,
   "metadata": {},
   "outputs": [],
   "source": [
    "tests = [{\n",
    "    'str_1': '4 8',\n",
    "    'str_2': '1 2 3 1',\n",
    "    'str_3': '1 5 2 3 2 0 7 0'\n",
    "}, {\n",
    "    'str_1': '5 3',\n",
    "    'str_2': '1 2 3 4 5',\n",
    "    'str_3': '3 2 1'\n",
    "}]"
   ]
  },
  {
   "cell_type": "code",
   "execution_count": 49,
   "metadata": {},
   "outputs": [],
   "source": [
    "tests_i = 1"
   ]
  },
  {
   "cell_type": "code",
   "execution_count": null,
   "metadata": {},
   "outputs": [
    {
     "name": "stdout",
     "output_type": "stream",
     "text": [
      "5 3\n"
     ]
    }
   ],
   "source": [
    "str_1 = input().split()\n",
    "# str_1 = tests[tests_i]['str_1'].split()\n",
    "n, m = str_1[0], str_1[1]\n",
    "\n",
    "# print(n, m)"
   ]
  },
  {
   "cell_type": "code",
   "execution_count": null,
   "metadata": {},
   "outputs": [
    {
     "name": "stdout",
     "output_type": "stream",
     "text": [
      "[1, 2, 3, 4, 5]\n",
      "[3, 2, 1]\n"
     ]
    }
   ],
   "source": [
    "arr_1 = list(map(int, input().split()))\n",
    "arr_2 = list(map(int, input().split()))\n",
    "# arr_1 = list(map(int, tests[tests_i]['str_2'].split()))\n",
    "# arr_2 = list(map(int, tests[tests_i]['str_3'].split()))\n",
    "\n",
    "# print(arr_1, arr_2, sep='\\n')"
   ]
  },
  {
   "cell_type": "code",
   "execution_count": null,
   "metadata": {},
   "outputs": [
    {
     "name": "stdout",
     "output_type": "stream",
     "text": [
      "[3, 2, 1]\n"
     ]
    }
   ],
   "source": [
    "arr_ans = []\n",
    "\n",
    "for elem_2 in arr_2:\n",
    "    flag = False\n",
    "    for elem_1 in arr_1:\n",
    "        if elem_2 == elem_1:\n",
    "            flag = True\n",
    "            break\n",
    "\n",
    "    if flag:\n",
    "        arr_ans.append(elem_2)\n",
    "\n",
    "# print(arr_ans)"
   ]
  },
  {
   "cell_type": "code",
   "execution_count": null,
   "metadata": {},
   "outputs": [
    {
     "name": "stdout",
     "output_type": "stream",
     "text": [
      "0\n",
      "[]\n"
     ]
    }
   ],
   "source": [
    "for elem in arr_ans:\n",
    "    if elem in arr_2:\n",
    "        arr_2.remove(elem)\n",
    "\n",
    "print(len(arr_2))\n",
    "print(*arr_2)"
   ]
  },
  {
   "cell_type": "code",
   "execution_count": null,
   "metadata": {},
   "outputs": [],
   "source": []
  }
 ],
 "metadata": {
  "kernelspec": {
   "display_name": "base",
   "language": "python",
   "name": "python3"
  },
  "language_info": {
   "codemirror_mode": {
    "name": "ipython",
    "version": 3
   },
   "file_extension": ".py",
   "mimetype": "text/x-python",
   "name": "python",
   "nbconvert_exporter": "python",
   "pygments_lexer": "ipython3",
   "version": "3.11.7"
  }
 },
 "nbformat": 4,
 "nbformat_minor": 2
}
