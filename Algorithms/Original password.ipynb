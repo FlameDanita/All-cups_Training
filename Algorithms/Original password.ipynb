{
 "cells": [
  {
   "cell_type": "code",
   "execution_count": 19,
   "metadata": {},
   "outputs": [],
   "source": [
    "def sorted_word(word):\n",
    "    sorted_word = ''\n",
    "    sorted_word_arr = []\n",
    "    for i in range(len(word)):\n",
    "        sorted_word_arr.append(word[i])\n",
    "    sorted_word_arr.sort()\n",
    "\n",
    "    for i in range(len(sorted_word_arr)):\n",
    "        sorted_word += sorted_word_arr[i]\n",
    "        \n",
    "    return sorted_word"
   ]
  },
  {
   "cell_type": "code",
   "execution_count": 24,
   "metadata": {},
   "outputs": [
    {
     "name": "stdout",
     "output_type": "stream",
     "text": [
      "Yes\n",
      "No\n",
      "No\n"
     ]
    }
   ],
   "source": [
    "# n = 3\n",
    "# test_m = [3, 2, 1]\n",
    "# test_s = ['cba', 'bz', 'a']\n",
    "# test_t = ['aaz', 'ab', 'a']\n",
    "\n",
    "n = int(input())\n",
    "\n",
    "for i in range(n):\n",
    "    # m = test_m[i]\n",
    "    # s = test_s[i]\n",
    "    # t = test_t[i]\n",
    "\n",
    "    m = int(input())\n",
    "    s = input()\n",
    "    t = input()\n",
    "\n",
    "    # print(n, m, s, t)\n",
    "    # print(s < t)\n",
    "    \n",
    "    s = sorted_word(s)\n",
    "    t = sorted_word(t)[::-1]\n",
    "    \n",
    "    # print(n, m, s, t)\n",
    "    # print(s < t)\n",
    "    # print()\n",
    "\n",
    "    if s < t:\n",
    "        print('Yes')\n",
    "    else:\n",
    "        print('No')\n",
    "    "
   ]
  },
  {
   "cell_type": "code",
   "execution_count": 18,
   "metadata": {},
   "outputs": [
    {
     "data": {
      "text/plain": [
       "'acz'"
      ]
     },
     "execution_count": 18,
     "metadata": {},
     "output_type": "execute_result"
    }
   ],
   "source": []
  },
  {
   "cell_type": "code",
   "execution_count": null,
   "metadata": {},
   "outputs": [],
   "source": []
  }
 ],
 "metadata": {
  "kernelspec": {
   "display_name": "base",
   "language": "python",
   "name": "python3"
  },
  "language_info": {
   "codemirror_mode": {
    "name": "ipython",
    "version": 3
   },
   "file_extension": ".py",
   "mimetype": "text/x-python",
   "name": "python",
   "nbconvert_exporter": "python",
   "pygments_lexer": "ipython3",
   "version": "3.11.7"
  }
 },
 "nbformat": 4,
 "nbformat_minor": 2
}
