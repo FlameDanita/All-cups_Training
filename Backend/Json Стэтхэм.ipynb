{
 "cells": [
  {
   "cell_type": "code",
   "execution_count": 1,
   "metadata": {},
   "outputs": [],
   "source": [
    "import json"
   ]
  },
  {
   "cell_type": "code",
   "execution_count": 3,
   "metadata": {},
   "outputs": [
    {
     "name": "stdout",
     "output_type": "stream",
     "text": [
      "[{'name': 'Джейсон', 'surname': 'Стетхем', 'marksI': [5, 5, 5, 4], 'marksII': [5, 3, 3, 5], 'marksIII': [4, 2, 5, 5, 5, 5], 'marksIV': [5, 4, 4, 3, 5]}, {'name': 'Сильвестр', 'surname': 'Сталлоне', 'marksI': [3, 4, 3, 4, 5], 'marksII': [5, 3, 3, 5], 'marksIII': [4, 4, 4, 4, 5], 'marksIV': [3, 3, 4, 3, 5]}]\n"
     ]
    }
   ],
   "source": [
    "with open(\"Json Стэтхэм.json\", 'r') as file:\n",
    "    data = json.load(file)\n",
    "\n",
    "print(data)"
   ]
  },
  {
   "cell_type": "code",
   "execution_count": 5,
   "metadata": {},
   "outputs": [
    {
     "name": "stdout",
     "output_type": "stream",
     "text": [
      "2\n"
     ]
    }
   ],
   "source": [
    "print(len(data))"
   ]
  },
  {
   "cell_type": "code",
   "execution_count": null,
   "metadata": {},
   "outputs": [],
   "source": []
  }
 ],
 "metadata": {
  "kernelspec": {
   "display_name": "base",
   "language": "python",
   "name": "python3"
  },
  "language_info": {
   "codemirror_mode": {
    "name": "ipython",
    "version": 3
   },
   "file_extension": ".py",
   "mimetype": "text/x-python",
   "name": "python",
   "nbconvert_exporter": "python",
   "pygments_lexer": "ipython3",
   "version": "3.11.7"
  }
 },
 "nbformat": 4,
 "nbformat_minor": 2
}
