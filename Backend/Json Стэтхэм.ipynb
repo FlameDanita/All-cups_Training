{
 "cells": [
  {
   "cell_type": "code",
   "execution_count": 43,
   "metadata": {},
   "outputs": [],
   "source": [
    "import json\n",
    "import statistics"
   ]
  },
  {
   "cell_type": "code",
   "execution_count": 44,
   "metadata": {},
   "outputs": [
    {
     "name": "stdout",
     "output_type": "stream",
     "text": [
      "[{'name': 'Джейсон', 'surname': 'Стетхем', 'marksI': [5, 5, 5, 4], 'marksII': [5, 3, 3, 5], 'marksIII': [4, 2, 5, 5, 5, 5], 'marksIV': [5, 4, 4, 3, 5]}, {'name': 'Сильвестр', 'surname': 'Сталлоне', 'marksI': [3, 4, 3, 4, 5], 'marksII': [5, 3, 3, 5], 'marksIII': [4, 4, 4, 4, 5], 'marksIV': [3, 3, 4, 3, 5]}]\n"
     ]
    }
   ],
   "source": [
    "with open(\"Json Стэтхэм.json\", 'r') as file:\n",
    "    data = json.load(file)\n",
    "\n",
    "print(data)"
   ]
  },
  {
   "cell_type": "code",
   "execution_count": null,
   "metadata": {},
   "outputs": [],
   "source": [
    "# data = json.loads(input())"
   ]
  },
  {
   "cell_type": "code",
   "execution_count": 45,
   "metadata": {},
   "outputs": [
    {
     "name": "stdout",
     "output_type": "stream",
     "text": [
      "4.2 0.6\n",
      "4.0 1.0\n",
      "4.3 0.7\n",
      "3.9 0.7\n"
     ]
    }
   ],
   "source": [
    "keys = data[0].keys()\n",
    "# keys = ['name', 'surname', 'marksI', 'marksII', 'marksIII', 'marksIV']\n",
    "\n",
    "parts_names = ['marksI', 'marksII', 'marksIII', 'marksIV']\n",
    "\n",
    "for key in keys:\n",
    "    if key in parts_names:\n",
    "\n",
    "        tmp_data = []\n",
    "        for i in range(len(data)):\n",
    "            tmp_data.extend(data[i][key])\n",
    "\n",
    "        # print(tmp_data)\n",
    "        \n",
    "        mark_mean = round(statistics.mean(tmp_data), 1)\n",
    "        mark_pvariance = round(statistics.pvariance(tmp_data), 1)\n",
    "\n",
    "        print(\"%.1f %.1f\" % (mark_mean, mark_pvariance))"
   ]
  },
  {
   "cell_type": "code",
   "execution_count": null,
   "metadata": {},
   "outputs": [],
   "source": []
  }
 ],
 "metadata": {
  "kernelspec": {
   "display_name": "base",
   "language": "python",
   "name": "python3"
  },
  "language_info": {
   "codemirror_mode": {
    "name": "ipython",
    "version": 3
   },
   "file_extension": ".py",
   "mimetype": "text/x-python",
   "name": "python",
   "nbconvert_exporter": "python",
   "pygments_lexer": "ipython3",
   "version": "3.11.7"
  }
 },
 "nbformat": 4,
 "nbformat_minor": 2
}
